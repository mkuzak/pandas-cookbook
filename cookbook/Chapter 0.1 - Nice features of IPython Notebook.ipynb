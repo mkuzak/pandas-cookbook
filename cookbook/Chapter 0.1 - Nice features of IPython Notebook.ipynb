{
 "cells": [
  {
   "cell_type": "markdown",
   "metadata": {},
   "source": [
    "# Some nice features\n",
    "Did you know you can use *markdown* in your **notebook**?\n",
    " - You can also use latex: \n",
    "\n",
    "$$ F(x) = \\int_a^b f(x) dx $$"
   ]
  },
  {
   "cell_type": "markdown",
   "metadata": {},
   "source": [
    "## Command line\n",
    "You can use os commands from the notebook:"
   ]
  },
  {
   "cell_type": "code",
   "execution_count": null,
   "metadata": {
    "collapsed": false
   },
   "outputs": [],
   "source": [
    "!ls -lh"
   ]
  },
  {
   "cell_type": "markdown",
   "metadata": {},
   "source": [
    "## Using matplotlib\n",
    "Two useful magics:\n",
    "\n",
    "%matplotlib \n",
    "\n",
    "and\n",
    "\n",
    "%pylab\n",
    "\n",
    "The first will import matplotlib (for plotting). The second will also import numpy. With both of these libraries you can add the 'inline' parameter, so your graphs appear in line in the notebook."
   ]
  },
  {
   "cell_type": "code",
   "execution_count": null,
   "metadata": {
    "collapsed": false
   },
   "outputs": [],
   "source": [
    "%pylab inline"
   ]
  },
  {
   "cell_type": "code",
   "execution_count": null,
   "metadata": {
    "collapsed": false
   },
   "outputs": [],
   "source": [
    "# np  -> numpy\n",
    "# plt -> matplotlib\n",
    "x = np.linspace(0, 12 * np.pi, 120)\n",
    "y = np.sin(x)\n",
    "plt.plot(x,y);"
   ]
  },
  {
   "cell_type": "code",
   "execution_count": null,
   "metadata": {
    "collapsed": false
   },
   "outputs": [],
   "source": [
    "# Can also be used without np or plt prefix\n",
    "x = linspace(0, 12 * pi, 120)\n",
    "y = sin(x)\n",
    "plot(x,y);"
   ]
  },
  {
   "cell_type": "markdown",
   "metadata": {},
   "source": [
    "# NBconvert\n",
    "You can use nbconvert module to convert your notebook to PDF format, making results more easily distributable."
   ]
  },
  {
   "cell_type": "code",
   "execution_count": null,
   "metadata": {
    "collapsed": false
   },
   "outputs": [],
   "source": [
    "!ipython nbconvert --to=pdf Chapter\\ 0.1\\ -\\ Nice\\ features\\ of\\ IPython\\ Notebook.ipynb"
   ]
  },
  {
   "cell_type": "markdown",
   "metadata": {},
   "source": [
    "After conversion, you can see the PDF [here](Chapter 0.1 - Nice features of IPython Notebook.pdf).\n",
    "\n",
    "Nbconvert supports *templates* to customize the output. For example, you may want to distribute your results without having to print all the code. This template allows you to export a notebook skipping all the code cells."
   ]
  },
  {
   "cell_type": "code",
   "execution_count": null,
   "metadata": {
    "collapsed": false
   },
   "outputs": [],
   "source": [
    "!more nocode.tplx"
   ]
  },
  {
   "cell_type": "code",
   "execution_count": null,
   "metadata": {
    "collapsed": false
   },
   "outputs": [],
   "source": [
    "!ipython nbconvert --to=pdf Chapter\\ 0.1\\ -\\ Nice\\ features\\ of\\ IPython\\ Notebook.ipynb --template=nocode.tplx --output asarticle"
   ]
  },
  {
   "cell_type": "markdown",
   "metadata": {},
   "source": [
    "You can see the result [here](asarticle.pdf)."
   ]
  },
  {
   "cell_type": "markdown",
   "metadata": {},
   "source": [
    "## Learn more\n",
    "\n",
    "We are just barely scratching the surface! You can learn more about IPython notebooks from the [IPython tutorials](http://nbviewer.ipython.org/github/ipython/ipython/blob/master/examples/Index.ipynb)"
   ]
  }
 ],
 "metadata": {
  "kernelspec": {
   "display_name": "IPython (Python 2)",
   "name": "python2"
  },
  "language_info": {
   "codemirror_mode": {
    "name": "ipython",
    "version": 2
   },
   "file_extension": ".py",
   "mimetype": "text/x-python",
   "name": "python",
   "nbconvert_exporter": "python",
   "pygments_lexer": "ipython2",
   "version": "2.7.8"
  },
  "signature": "sha256:2bd3c0dec8db80d12578b90a4f4df8b9cfc085ff18224cbc1d213ae8a4a6f255"
 },
 "nbformat": 4,
 "nbformat_minor": 0
}