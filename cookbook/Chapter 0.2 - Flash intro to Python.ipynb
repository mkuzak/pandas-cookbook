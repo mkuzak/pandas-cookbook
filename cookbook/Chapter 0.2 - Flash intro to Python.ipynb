{
 "cells": [
  {
   "cell_type": "markdown",
   "metadata": {},
   "source": [
    "# The basics\n",
    "Hello world. Variables. Flow control. "
   ]
  },
  {
   "cell_type": "code",
   "execution_count": null,
   "metadata": {
    "collapsed": false
   },
   "outputs": [],
   "source": [
    "print 'Hello world'"
   ]
  },
  {
   "cell_type": "code",
   "execution_count": null,
   "metadata": {
    "collapsed": false
   },
   "outputs": [],
   "source": [
    "x = 1\n",
    "y = 2\n",
    "z = x / y\n",
    "print z"
   ]
  },
  {
   "cell_type": "code",
   "execution_count": null,
   "metadata": {
    "collapsed": false
   },
   "outputs": [],
   "source": [
    "x = 1.0\n",
    "y = 2.0\n",
    "z = x / y\n",
    "print z"
   ]
  },
  {
   "cell_type": "code",
   "execution_count": null,
   "metadata": {
    "collapsed": false
   },
   "outputs": [],
   "source": [
    "s = 'Hello world! '\n",
    "print s\n",
    "print s * 2"
   ]
  },
  {
   "cell_type": "code",
   "execution_count": null,
   "metadata": {
    "collapsed": false
   },
   "outputs": [],
   "source": [
    "# If statement\n",
    "if 0<1:\n",
    "    print \"It's true\"\n",
    "else:\n",
    "    print \"It's not\""
   ]
  },
  {
   "cell_type": "code",
   "execution_count": null,
   "metadata": {
    "collapsed": false
   },
   "outputs": [],
   "source": [
    "# Basic for loop -- although there are more ways to loop through data.\n",
    "for i in range(10):\n",
    "    print i"
   ]
  },
  {
   "cell_type": "markdown",
   "metadata": {},
   "source": [
    "# Lists, dictionaries etc."
   ]
  },
  {
   "cell_type": "code",
   "execution_count": null,
   "metadata": {
    "collapsed": false
   },
   "outputs": [],
   "source": [
    "# Create a list\n",
    "l = [ 1, 2, 3 ]\n",
    "print 'List:',l"
   ]
  },
  {
   "cell_type": "code",
   "execution_count": null,
   "metadata": {
    "collapsed": false
   },
   "outputs": [],
   "source": [
    "# Access element of a list\n",
    "print 'First item         : ',l[0]\n",
    "print 'Last item          : ',l[-1]\n",
    "print 'First & second item: ',l[0:2]\n",
    "print 'Reverse order      : ',l[::-1]  # Slicing"
   ]
  },
  {
   "cell_type": "code",
   "execution_count": null,
   "metadata": {
    "collapsed": false
   },
   "outputs": [],
   "source": [
    "# Slicing lists\n",
    "l = range(20)\n",
    "print 'List                  : ',l\n",
    "print 'List (0 to 10)        : ',l[0:10]\n",
    "print 'List (0 to 10, step 2): ',l[0:10:2]"
   ]
  },
  {
   "cell_type": "code",
   "execution_count": null,
   "metadata": {
    "collapsed": false
   },
   "outputs": [],
   "source": [
    "# Adding / removing list elements\n",
    "l = []\n",
    "l.append(1)\n",
    "l.append(2)\n",
    "l.append('a')\n",
    "l.append('b')\n",
    "print l\n",
    "x = l.pop()\n",
    "print l\n",
    "print x"
   ]
  },
  {
   "cell_type": "code",
   "execution_count": null,
   "metadata": {
    "collapsed": false
   },
   "outputs": [],
   "source": [
    "# Dictionaries\n",
    "d = {}\n",
    "d['key1'] = 'value1'\n",
    "d['key2'] = 'value2'\n",
    "print 'D: ',d\n",
    "print 'K1: ',d['key1']\n",
    "print 'K2: ',d['key2']"
   ]
  },
  {
   "cell_type": "code",
   "execution_count": null,
   "metadata": {
    "collapsed": false
   },
   "outputs": [],
   "source": [
    "# Alternative way of creating dictionaries\n",
    "d = {'key1': 'value1', 'key2': 'value2'}\n",
    "print d"
   ]
  },
  {
   "cell_type": "code",
   "execution_count": null,
   "metadata": {
    "collapsed": false
   },
   "outputs": [],
   "source": [
    "# Iterating over dictionary\n",
    "for key in d:\n",
    "    print 'Key:',key,'Value:',d[key]"
   ]
  },
  {
   "cell_type": "markdown",
   "metadata": {},
   "source": [
    "## Something called list comprehension"
   ]
  },
  {
   "cell_type": "code",
   "execution_count": null,
   "metadata": {
    "collapsed": false
   },
   "outputs": [],
   "source": [
    "%%timeit\n",
    "squares = []\n",
    "for x in range(10):\n",
    "    squares.append(x**2)"
   ]
  },
  {
   "cell_type": "code",
   "execution_count": null,
   "metadata": {
    "collapsed": false
   },
   "outputs": [],
   "source": [
    "%%timeit # With comprehension\n",
    "squares = [x**2 for x in range(10)]"
   ]
  },
  {
   "cell_type": "markdown",
   "metadata": {},
   "source": [
    "# Functions"
   ]
  },
  {
   "cell_type": "code",
   "execution_count": null,
   "metadata": {
    "collapsed": false
   },
   "outputs": [],
   "source": [
    "def fib(n):    # write Fibonacci series up to n\n",
    "    \"\"\"Print a Fibonacci series up to n.\"\"\"\n",
    "    a, b = 0, 1\n",
    "    while a < n:\n",
    "        print a,\n",
    "        a, b = b, a+b\n",
    "fib(10)"
   ]
  },
  {
   "cell_type": "code",
   "execution_count": null,
   "metadata": {
    "collapsed": false
   },
   "outputs": [],
   "source": [
    "# 'Word' is an optional parameter\n",
    "def repeatWord(n, word='bar'):\n",
    "    print (word + ' ') * n\n",
    "\n",
    "repeatWord(5)\n",
    "print '----------'\n",
    "repeatWord(5, 'x')"
   ]
  },
  {
   "cell_type": "code",
   "execution_count": null,
   "metadata": {
    "collapsed": false
   },
   "outputs": [],
   "source": [
    "# 'Word' and 'space' are optional. We can pass them by name (position does not matter)\n",
    "def repeatWord2(n, word='bar',space=' '):\n",
    "    print (word+space) * n\n",
    "\n",
    "repeatWord2(5)\n",
    "print '----------'\n",
    "repeatWord2(5, space='_')\n",
    "print '----------'\n",
    "repeatWord2(5, space='_', word='blah')\n",
    "print '----------'\n",
    "repeatWord2(5, word='blah', space='_')"
   ]
  },
  {
   "cell_type": "code",
   "execution_count": null,
   "metadata": {
    "collapsed": false
   },
   "outputs": [],
   "source": [
    "# Rename a function\n",
    "repeatWord3 = repeatWord2\n",
    "repeatWord3(5, word='blah', space='_')"
   ]
  },
  {
   "cell_type": "code",
   "execution_count": null,
   "metadata": {
    "collapsed": false
   },
   "outputs": [],
   "source": [
    "# Can also define lambda expression (which really are almost like a function)\n",
    "raiseToThePowerOf2 = lambda x: x**2\n",
    "raiseToThePowerOf2(10)"
   ]
  },
  {
   "cell_type": "markdown",
   "metadata": {},
   "source": [
    "# Importing libraries\n",
    "There are different ways of importing libraries. Depending on how you import your libraries, you will have to call your functions differently."
   ]
  },
  {
   "cell_type": "code",
   "execution_count": null,
   "metadata": {
    "collapsed": false
   },
   "outputs": [],
   "source": [
    "import numpy\n",
    "numpy.arange(0,10)"
   ]
  },
  {
   "cell_type": "code",
   "execution_count": null,
   "metadata": {
    "collapsed": false
   },
   "outputs": [],
   "source": [
    "import numpy as np\n",
    "np.arange(0,10)"
   ]
  },
  {
   "cell_type": "code",
   "execution_count": null,
   "metadata": {
    "collapsed": false
   },
   "outputs": [],
   "source": [
    "from numpy import arange\n",
    "arange(0,10)"
   ]
  },
  {
   "cell_type": "code",
   "execution_count": null,
   "metadata": {
    "collapsed": false
   },
   "outputs": [],
   "source": [
    "from numpy import * # Frown >:-(\n",
    "arange(0,10)"
   ]
  },
  {
   "cell_type": "markdown",
   "metadata": {},
   "source": [
    "# Other resources\n",
    " - [The Python Tutorial](https://docs.python.org/2/tutorial/) -- 'Official' Python tutorial\n",
    " - [Learn Python](http://www.learnpython.org/) -- from basic to quite advanced in a few, interactive sessions\n",
    " - [Tentative NumPy Tutorial](http://wiki.scipy.org/Tentative_NumPy_Tutorial) -- numpy is super useful for number crunching\n",
    " - [Matplotlib](http://matplotlib.org/gallery.html) -- Visually presenting data"
   ]
  }
 ],
 "metadata": {
  "kernelspec": {
   "display_name": "IPython (Python 2)",
   "name": "python2"
  },
  "language_info": {
   "codemirror_mode": {
    "name": "ipython",
    "version": 2
   },
   "file_extension": ".py",
   "mimetype": "text/x-python",
   "name": "python",
   "nbconvert_exporter": "python",
   "pygments_lexer": "ipython2",
   "version": "2.7.8"
  },
  "signature": "sha256:6dea8389029bc93ed0f1dc5915d48660873e752ab0a9f7ba0fbc23ab1c45bbe6"
 },
 "nbformat": 4,
 "nbformat_minor": 0
}